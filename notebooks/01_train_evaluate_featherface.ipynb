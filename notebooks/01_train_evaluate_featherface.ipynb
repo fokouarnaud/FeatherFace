{
 "cells": [
  {
   "cell_type": "markdown",
   "metadata": {},
   "source": [
    "# FeatherFace Baseline Training and Evaluation\n",
    "\n",
    "This notebook reproduces the original FeatherFace training process following the author's instructions.\n",
    "\n",
    "## Overview\n",
    "- Model: FeatherFace with MobileNetV1 0.25x backbone\n",
    "- Dataset: WIDERFace (auto-download)\n",
    "- Expected Results: 0.49M parameters, 90.8% mAP\n",
    "- Uses original training scripts for faithful reproduction"
   ]
  },
  {
   "cell_type": "markdown",
   "metadata": {},
   "source": [
    "## 1. Installation and Environment Setup"
   ]
  },
  {
   "cell_type": "code",
   "execution_count": null,
   "metadata": {},
   "outputs": [],
   "source": [
    "# Setup paths - all paths are relative to the FeatherFace root directory\n",
    "import os\n",
    "import sys\n",
    "from pathlib import Path\n",
    "\n",
    "# Get the project root directory (parent of notebooks/)\n",
    "PROJECT_ROOT = Path(os.path.abspath('..'))\n",
    "print(f\"Project root: {PROJECT_ROOT}\")\n",
    "\n",
    "# Change to project root for all operations\n",
    "os.chdir(PROJECT_ROOT)\n",
    "print(f\"Working directory: {os.getcwd()}\")"
   ]
  },
  {
   "cell_type": "code",
   "execution_count": null,
   "metadata": {},
   "outputs": [],
   "source": [
    "# Install project in editable mode\n",
    "!pip install -e .\n",
    "\n",
    "# Verify imports work\n",
    "try:\n",
    "    from models.retinaface import RetinaFace\n",
    "    from data import cfg_mnet, WiderFaceDetection\n",
    "    print(\"✓ Imports successful\")\n",
    "except ImportError as e:\n",
    "    print(f\"✗ Import error: {e}\")"
   ]
  },
  {
   "cell_type": "markdown",
   "metadata": {},
   "source": [
    "## 2. Dataset Download and Preparation\n",
    "\n",
    "The dataset will be automatically downloaded when training starts. But we can prepare the directories."
   ]
  },
  {
   "cell_type": "code",
   "execution_count": null,
   "metadata": {},
   "outputs": [],
   "source": [
    "# Check and create data directories\n",
    "import os\n",
    "from pathlib import Path\n",
    "\n",
    "# Create necessary directories\n",
    "data_dir = Path('data/widerface')\n",
    "weights_dir = Path('weights')\n",
    "results_dir = Path('results')\n",
    "\n",
    "for dir_path in [data_dir, weights_dir, results_dir]:\n",
    "    dir_path.mkdir(parents=True, exist_ok=True)\n",
    "    print(f\"✓ Directory ready: {dir_path}\")"
   ]
  },
  {
   "cell_type": "markdown",
   "metadata": {},
   "source": [
    "## 3. Download Pre-trained Weights\n",
    "\n",
    "The model requires pre-trained MobileNetV1 0.25x weights."
   ]
  },
  {
   "cell_type": "code",
   "execution_count": null,
   "metadata": {},
   "outputs": [],
   "source": [
    "# Pre-trained weights info\n",
    "PRETRAIN_FILENAME = 'mobilenetV1X0.25_pretrain.tar'\n",
    "pretrain_path = weights_dir / PRETRAIN_FILENAME\n",
    "\n",
    "print(\"=== Pre-trained Weights Download Instructions ===\")\n",
    "print(f\"\\nWeights should be placed at: {pretrain_path.absolute()}\")\n",
    "print(\"\\nDownload from:\")\n",
    "print(\"https://drive.google.com/open?id=1oZRSG0ZegbVkVwUd8wUIQx8W7yfZ_ki1\")\n",
    "print(f\"\\nSave as: {pretrain_path.relative_to('.')}\")\n",
    "\n",
    "if pretrain_path.exists():\n",
    "    print(f\"\\n✓ Pre-trained weights found: {pretrain_path.relative_to('.')}\")\n",
    "else:\n",
    "    print(f\"\\n✗ Pre-trained weights not found. Please download manually.\")"
   ]
  },
  {
   "cell_type": "markdown",
   "metadata": {},
   "source": [
    "## 4. Model Configuration and Training Parameters"
   ]
  },
  {
   "cell_type": "code",
   "execution_count": null,
   "metadata": {},
   "outputs": [],
   "source": [
    "# Training parameters from original repository\n",
    "TRAIN_CONFIG = {\n",
    "    'network': 'mobile0.25',\n",
    "    'num_workers': 1,  # Adjust based on your system\n",
    "    'lr': 1e-3,\n",
    "    'momentum': 0.9,\n",
    "    'save_folder': 'weights/',\n",
    "    'resume_net': None,  # Will be set to pretrained weights\n",
    "    'batch_size': 32,\n",
    "    'num_epoch': 250,\n",
    "    'gpu': True,\n",
    "    'ngpu': 1,\n",
    "    'pretrain': True\n",
    "}\n",
    "\n",
    "print(\"Training Configuration:\")\n",
    "for key, value in TRAIN_CONFIG.items():\n",
    "    print(f\"  {key}: {value}\")"
   ]
  }
 ],
 "metadata": {
  "kernelspec": {
   "display_name": "Python 3",
   "language": "python",
   "name": "python3"
  },
  "language_info": {
   "codemirror_mode": {
    "name": "ipython",
    "version": 3
   },
   "file_extension": ".py",
   "mimetype": "text/x-python",
   "name": "python",
   "nbconvert_exporter": "python",
   "pygments_lexer": "ipython3",
   "version": "3.8.0"
  }
 },
 "nbformat": 4,
 "nbformat_minor": 4
}
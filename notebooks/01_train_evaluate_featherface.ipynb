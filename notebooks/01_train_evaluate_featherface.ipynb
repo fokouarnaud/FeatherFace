{
 "cells": [
  {
   "cell_type": "markdown",
   "metadata": {},
   "source": [
    "# FeatherFace Baseline Training and Evaluation\n",
    "\n",
    "This notebook reproduces the original FeatherFace training process following the author's instructions.\n",
    "\n",
    "## Overview\n",
    "- Model: FeatherFace with MobileNetV1 0.25x backbone\n",
    "- Dataset: WIDERFace (auto-download)\n",
    "- Expected Results: 0.49M parameters, 90.8% mAP\n",
    "- Uses original training scripts for faithful reproduction"
   ]
  },
  {
   "cell_type": "markdown",
   "metadata": {},
   "source": [
    "## 1. Installation and Environment Setup"
   ]
  },
  {
   "cell_type": "code",
   "execution_count": 1,
   "metadata": {},
   "outputs": [
    {
     "name": "stdout",
     "output_type": "stream",
     "text": [
      "Project root: /teamspace/studios/this_studio/FeatherFace\n",
      "Working directory: /teamspace/studios/this_studio/FeatherFace\n"
     ]
    }
   ],
   "source": [
    "# Setup paths - all paths are relative to the FeatherFace root directory\n",
    "import os\n",
    "import sys\n",
    "from pathlib import Path\n",
    "\n",
    "# Get the project root directory (parent of notebooks/)\n",
    "PROJECT_ROOT = Path(os.path.abspath('..'))\n",
    "print(f\"Project root: {PROJECT_ROOT}\")\n",
    "\n",
    "# Change to project root for all operations\n",
    "os.chdir(PROJECT_ROOT)\n",
    "print(f\"Working directory: {os.getcwd()}\")"
   ]
  },
  {
   "cell_type": "code",
   "execution_count": 2,
   "metadata": {},
   "outputs": [
    {
     "name": "stdout",
     "output_type": "stream",
     "text": [
      "Obtaining file:///teamspace/studios/this_studio/FeatherFace\n",
      "  Installing build dependencies ... \u001b[?25ldone\n",
      "\u001b[?25h  Checking if build backend supports build_editable ... \u001b[?25ldone\n",
      "\u001b[?25h  Getting requirements to build editable ... \u001b[?25ldone\n",
      "\u001b[?25h  Preparing editable metadata (pyproject.toml) ... \u001b[?25ldone\n",
      "\u001b[?25hRequirement already satisfied: torch>=1.10.0 in /system/conda/miniconda3/envs/cloudspace/lib/python3.10/site-packages (from featherface==2.0.0) (2.7.0+cu128)\n",
      "Requirement already satisfied: torchvision>=0.11.0 in /system/conda/miniconda3/envs/cloudspace/lib/python3.10/site-packages (from featherface==2.0.0) (0.22.0+cu128)\n",
      "Requirement already satisfied: opencv-contrib-python>=4.5.0 in /system/conda/miniconda3/envs/cloudspace/lib/python3.10/site-packages (from featherface==2.0.0) (4.11.0.86)\n",
      "Requirement already satisfied: albumentations>=1.0.0 in /system/conda/miniconda3/envs/cloudspace/lib/python3.10/site-packages (from featherface==2.0.0) (2.0.8)\n",
      "Requirement already satisfied: numpy>=1.19.0 in /system/conda/miniconda3/envs/cloudspace/lib/python3.10/site-packages (from featherface==2.0.0) (1.26.4)\n",
      "Requirement already satisfied: scipy>=1.5.0 in /system/conda/miniconda3/envs/cloudspace/lib/python3.10/site-packages (from featherface==2.0.0) (1.11.4)\n",
      "Requirement already satisfied: scikit-learn>=0.24.0 in /system/conda/miniconda3/envs/cloudspace/lib/python3.10/site-packages (from featherface==2.0.0) (1.3.2)\n",
      "Requirement already satisfied: matplotlib>=3.3.0 in /system/conda/miniconda3/envs/cloudspace/lib/python3.10/site-packages (from featherface==2.0.0) (3.10.3)\n",
      "Requirement already satisfied: pandas>=1.3.0 in /system/conda/miniconda3/envs/cloudspace/lib/python3.10/site-packages (from featherface==2.0.0) (2.1.4)\n",
      "Requirement already satisfied: pillow>=8.0.0 in /system/conda/miniconda3/envs/cloudspace/lib/python3.10/site-packages (from featherface==2.0.0) (11.2.1)\n",
      "Requirement already satisfied: tqdm>=4.62.0 in /system/conda/miniconda3/envs/cloudspace/lib/python3.10/site-packages (from featherface==2.0.0) (4.67.1)\n",
      "Requirement already satisfied: onnx>=1.10.0 in /system/conda/miniconda3/envs/cloudspace/lib/python3.10/site-packages (from featherface==2.0.0) (1.17.0)\n",
      "Requirement already satisfied: onnxruntime>=1.9.0 in /system/conda/miniconda3/envs/cloudspace/lib/python3.10/site-packages (from featherface==2.0.0) (1.22.0)\n",
      "Requirement already satisfied: onnx-simplifier>=0.3.0 in /system/conda/miniconda3/envs/cloudspace/lib/python3.10/site-packages (from featherface==2.0.0) (0.4.36)\n",
      "Requirement already satisfied: jupyter>=1.0.0 in /system/conda/miniconda3/envs/cloudspace/lib/python3.10/site-packages (from featherface==2.0.0) (1.1.1)\n",
      "Requirement already satisfied: notebook>=6.4.0 in /system/conda/miniconda3/envs/cloudspace/lib/python3.10/site-packages (from featherface==2.0.0) (7.4.3)\n",
      "Requirement already satisfied: ipywidgets>=7.6.0 in /system/conda/miniconda3/envs/cloudspace/lib/python3.10/site-packages (from featherface==2.0.0) (8.1.1)\n",
      "Requirement already satisfied: tensorboard>=2.7.0 in /system/conda/miniconda3/envs/cloudspace/lib/python3.10/site-packages (from featherface==2.0.0) (2.15.1)\n",
      "Requirement already satisfied: seaborn>=0.11.0 in /system/conda/miniconda3/envs/cloudspace/lib/python3.10/site-packages (from featherface==2.0.0) (0.13.2)\n",
      "Requirement already satisfied: pyyaml>=5.4.0 in /system/conda/miniconda3/envs/cloudspace/lib/python3.10/site-packages (from featherface==2.0.0) (6.0.2)\n",
      "Requirement already satisfied: timm>=0.5.0 in /system/conda/miniconda3/envs/cloudspace/lib/python3.10/site-packages (from featherface==2.0.0) (1.0.10)\n",
      "Requirement already satisfied: pydantic>=2.9.2 in /system/conda/miniconda3/envs/cloudspace/lib/python3.10/site-packages (from albumentations>=1.0.0->featherface==2.0.0) (2.11.4)\n",
      "Requirement already satisfied: albucore==0.0.24 in /system/conda/miniconda3/envs/cloudspace/lib/python3.10/site-packages (from albumentations>=1.0.0->featherface==2.0.0) (0.0.24)\n",
      "Requirement already satisfied: opencv-python-headless>=4.9.0.80 in /system/conda/miniconda3/envs/cloudspace/lib/python3.10/site-packages (from albumentations>=1.0.0->featherface==2.0.0) (4.11.0.86)\n",
      "Requirement already satisfied: stringzilla>=3.10.4 in /system/conda/miniconda3/envs/cloudspace/lib/python3.10/site-packages (from albucore==0.0.24->albumentations>=1.0.0->featherface==2.0.0) (3.12.5)\n",
      "Requirement already satisfied: simsimd>=5.9.2 in /system/conda/miniconda3/envs/cloudspace/lib/python3.10/site-packages (from albucore==0.0.24->albumentations>=1.0.0->featherface==2.0.0) (6.2.1)\n",
      "Requirement already satisfied: comm>=0.1.3 in /system/conda/miniconda3/envs/cloudspace/lib/python3.10/site-packages (from ipywidgets>=7.6.0->featherface==2.0.0) (0.2.2)\n",
      "Requirement already satisfied: ipython>=6.1.0 in /system/conda/miniconda3/envs/cloudspace/lib/python3.10/site-packages (from ipywidgets>=7.6.0->featherface==2.0.0) (8.17.2)\n",
      "Requirement already satisfied: traitlets>=4.3.1 in /system/conda/miniconda3/envs/cloudspace/lib/python3.10/site-packages (from ipywidgets>=7.6.0->featherface==2.0.0) (5.14.3)\n",
      "Requirement already satisfied: widgetsnbextension~=4.0.9 in /system/conda/miniconda3/envs/cloudspace/lib/python3.10/site-packages (from ipywidgets>=7.6.0->featherface==2.0.0) (4.0.14)\n",
      "Requirement already satisfied: jupyterlab-widgets~=3.0.9 in /system/conda/miniconda3/envs/cloudspace/lib/python3.10/site-packages (from ipywidgets>=7.6.0->featherface==2.0.0) (3.0.15)\n",
      "Requirement already satisfied: decorator in /system/conda/miniconda3/envs/cloudspace/lib/python3.10/site-packages (from ipython>=6.1.0->ipywidgets>=7.6.0->featherface==2.0.0) (5.2.1)\n",
      "Requirement already satisfied: jedi>=0.16 in /system/conda/miniconda3/envs/cloudspace/lib/python3.10/site-packages (from ipython>=6.1.0->ipywidgets>=7.6.0->featherface==2.0.0) (0.19.2)\n",
      "Requirement already satisfied: matplotlib-inline in /system/conda/miniconda3/envs/cloudspace/lib/python3.10/site-packages (from ipython>=6.1.0->ipywidgets>=7.6.0->featherface==2.0.0) (0.1.7)\n",
      "Requirement already satisfied: prompt-toolkit!=3.0.37,<3.1.0,>=3.0.30 in /system/conda/miniconda3/envs/cloudspace/lib/python3.10/site-packages (from ipython>=6.1.0->ipywidgets>=7.6.0->featherface==2.0.0) (3.0.51)\n",
      "Requirement already satisfied: pygments>=2.4.0 in /system/conda/miniconda3/envs/cloudspace/lib/python3.10/site-packages (from ipython>=6.1.0->ipywidgets>=7.6.0->featherface==2.0.0) (2.19.1)\n",
      "Requirement already satisfied: stack-data in /system/conda/miniconda3/envs/cloudspace/lib/python3.10/site-packages (from ipython>=6.1.0->ipywidgets>=7.6.0->featherface==2.0.0) (0.6.3)\n",
      "Requirement already satisfied: exceptiongroup in /system/conda/miniconda3/envs/cloudspace/lib/python3.10/site-packages (from ipython>=6.1.0->ipywidgets>=7.6.0->featherface==2.0.0) (1.3.0)\n",
      "Requirement already satisfied: pexpect>4.3 in /system/conda/miniconda3/envs/cloudspace/lib/python3.10/site-packages (from ipython>=6.1.0->ipywidgets>=7.6.0->featherface==2.0.0) (4.9.0)\n",
      "Requirement already satisfied: wcwidth in /system/conda/miniconda3/envs/cloudspace/lib/python3.10/site-packages (from prompt-toolkit!=3.0.37,<3.1.0,>=3.0.30->ipython>=6.1.0->ipywidgets>=7.6.0->featherface==2.0.0) (0.2.13)\n",
      "Requirement already satisfied: parso<0.9.0,>=0.8.4 in /system/conda/miniconda3/envs/cloudspace/lib/python3.10/site-packages (from jedi>=0.16->ipython>=6.1.0->ipywidgets>=7.6.0->featherface==2.0.0) (0.8.4)\n",
      "Requirement already satisfied: jupyter-console in /system/conda/miniconda3/envs/cloudspace/lib/python3.10/site-packages (from jupyter>=1.0.0->featherface==2.0.0) (6.6.3)\n",
      "Requirement already satisfied: nbconvert in /system/conda/miniconda3/envs/cloudspace/lib/python3.10/site-packages (from jupyter>=1.0.0->featherface==2.0.0) (7.16.6)\n",
      "Requirement already satisfied: ipykernel in /system/conda/miniconda3/envs/cloudspace/lib/python3.10/site-packages (from jupyter>=1.0.0->featherface==2.0.0) (6.26.0)\n",
      "Requirement already satisfied: jupyterlab in /system/conda/miniconda3/envs/cloudspace/lib/python3.10/site-packages (from jupyter>=1.0.0->featherface==2.0.0) (4.4.3)\n",
      "Requirement already satisfied: contourpy>=1.0.1 in /system/conda/miniconda3/envs/cloudspace/lib/python3.10/site-packages (from matplotlib>=3.3.0->featherface==2.0.0) (1.3.2)\n",
      "Requirement already satisfied: cycler>=0.10 in /system/conda/miniconda3/envs/cloudspace/lib/python3.10/site-packages (from matplotlib>=3.3.0->featherface==2.0.0) (0.12.1)\n",
      "Requirement already satisfied: fonttools>=4.22.0 in /system/conda/miniconda3/envs/cloudspace/lib/python3.10/site-packages (from matplotlib>=3.3.0->featherface==2.0.0) (4.58.0)\n",
      "Requirement already satisfied: kiwisolver>=1.3.1 in /system/conda/miniconda3/envs/cloudspace/lib/python3.10/site-packages (from matplotlib>=3.3.0->featherface==2.0.0) (1.4.8)\n",
      "Requirement already satisfied: packaging>=20.0 in /system/conda/miniconda3/envs/cloudspace/lib/python3.10/site-packages (from matplotlib>=3.3.0->featherface==2.0.0) (24.2)\n",
      "Requirement already satisfied: pyparsing>=2.3.1 in /system/conda/miniconda3/envs/cloudspace/lib/python3.10/site-packages (from matplotlib>=3.3.0->featherface==2.0.0) (3.2.3)\n",
      "Requirement already satisfied: python-dateutil>=2.7 in /system/conda/miniconda3/envs/cloudspace/lib/python3.10/site-packages (from matplotlib>=3.3.0->featherface==2.0.0) (2.9.0.post0)\n",
      "Requirement already satisfied: jupyter-server<3,>=2.4.0 in /system/conda/miniconda3/envs/cloudspace/lib/python3.10/site-packages (from notebook>=6.4.0->featherface==2.0.0) (2.16.0)\n",
      "Requirement already satisfied: jupyterlab-server<3,>=2.27.1 in /system/conda/miniconda3/envs/cloudspace/lib/python3.10/site-packages (from notebook>=6.4.0->featherface==2.0.0) (2.27.3)\n",
      "Requirement already satisfied: notebook-shim<0.3,>=0.2 in /system/conda/miniconda3/envs/cloudspace/lib/python3.10/site-packages (from notebook>=6.4.0->featherface==2.0.0) (0.2.4)\n",
      "Requirement already satisfied: tornado>=6.2.0 in /system/conda/miniconda3/envs/cloudspace/lib/python3.10/site-packages (from notebook>=6.4.0->featherface==2.0.0) (6.4.2)\n",
      "Requirement already satisfied: anyio>=3.1.0 in /system/conda/miniconda3/envs/cloudspace/lib/python3.10/site-packages (from jupyter-server<3,>=2.4.0->notebook>=6.4.0->featherface==2.0.0) (4.9.0)\n",
      "Requirement already satisfied: argon2-cffi>=21.1 in /system/conda/miniconda3/envs/cloudspace/lib/python3.10/site-packages (from jupyter-server<3,>=2.4.0->notebook>=6.4.0->featherface==2.0.0) (23.1.0)\n",
      "Requirement already satisfied: jinja2>=3.0.3 in /system/conda/miniconda3/envs/cloudspace/lib/python3.10/site-packages (from jupyter-server<3,>=2.4.0->notebook>=6.4.0->featherface==2.0.0) (3.1.6)\n",
      "Requirement already satisfied: jupyter-client>=7.4.4 in /system/conda/miniconda3/envs/cloudspace/lib/python3.10/site-packages (from jupyter-server<3,>=2.4.0->notebook>=6.4.0->featherface==2.0.0) (8.6.3)\n",
      "Requirement already satisfied: jupyter-core!=5.0.*,>=4.12 in /system/conda/miniconda3/envs/cloudspace/lib/python3.10/site-packages (from jupyter-server<3,>=2.4.0->notebook>=6.4.0->featherface==2.0.0) (5.7.2)\n",
      "Requirement already satisfied: jupyter-events>=0.11.0 in /system/conda/miniconda3/envs/cloudspace/lib/python3.10/site-packages (from jupyter-server<3,>=2.4.0->notebook>=6.4.0->featherface==2.0.0) (0.12.0)\n",
      "Requirement already satisfied: jupyter-server-terminals>=0.4.4 in /system/conda/miniconda3/envs/cloudspace/lib/python3.10/site-packages (from jupyter-server<3,>=2.4.0->notebook>=6.4.0->featherface==2.0.0) (0.5.3)\n",
      "Requirement already satisfied: nbformat>=5.3.0 in /system/conda/miniconda3/envs/cloudspace/lib/python3.10/site-packages (from jupyter-server<3,>=2.4.0->notebook>=6.4.0->featherface==2.0.0) (5.10.4)\n",
      "Requirement already satisfied: overrides>=5.0 in /system/conda/miniconda3/envs/cloudspace/lib/python3.10/site-packages (from jupyter-server<3,>=2.4.0->notebook>=6.4.0->featherface==2.0.0) (7.7.0)\n",
      "Requirement already satisfied: prometheus-client>=0.9 in /system/conda/miniconda3/envs/cloudspace/lib/python3.10/site-packages (from jupyter-server<3,>=2.4.0->notebook>=6.4.0->featherface==2.0.0) (0.21.1)\n",
      "Requirement already satisfied: pyzmq>=24 in /system/conda/miniconda3/envs/cloudspace/lib/python3.10/site-packages (from jupyter-server<3,>=2.4.0->notebook>=6.4.0->featherface==2.0.0) (26.4.0)\n",
      "Requirement already satisfied: send2trash>=1.8.2 in /system/conda/miniconda3/envs/cloudspace/lib/python3.10/site-packages (from jupyter-server<3,>=2.4.0->notebook>=6.4.0->featherface==2.0.0) (1.8.3)\n",
      "Requirement already satisfied: terminado>=0.8.3 in /system/conda/miniconda3/envs/cloudspace/lib/python3.10/site-packages (from jupyter-server<3,>=2.4.0->notebook>=6.4.0->featherface==2.0.0) (0.18.1)\n",
      "Requirement already satisfied: websocket-client>=1.7 in /system/conda/miniconda3/envs/cloudspace/lib/python3.10/site-packages (from jupyter-server<3,>=2.4.0->notebook>=6.4.0->featherface==2.0.0) (1.8.0)\n",
      "Requirement already satisfied: async-lru>=1.0.0 in /system/conda/miniconda3/envs/cloudspace/lib/python3.10/site-packages (from jupyterlab->jupyter>=1.0.0->featherface==2.0.0) (2.0.5)\n",
      "Requirement already satisfied: httpx>=0.25.0 in /system/conda/miniconda3/envs/cloudspace/lib/python3.10/site-packages (from jupyterlab->jupyter>=1.0.0->featherface==2.0.0) (0.28.1)\n",
      "Requirement already satisfied: jupyter-lsp>=2.0.0 in /system/conda/miniconda3/envs/cloudspace/lib/python3.10/site-packages (from jupyterlab->jupyter>=1.0.0->featherface==2.0.0) (2.2.5)\n",
      "Requirement already satisfied: setuptools>=41.1.0 in /system/conda/miniconda3/envs/cloudspace/lib/python3.10/site-packages (from jupyterlab->jupyter>=1.0.0->featherface==2.0.0) (78.1.1)\n",
      "Requirement already satisfied: tomli>=1.2.2 in /system/conda/miniconda3/envs/cloudspace/lib/python3.10/site-packages (from jupyterlab->jupyter>=1.0.0->featherface==2.0.0) (2.2.1)\n",
      "Requirement already satisfied: babel>=2.10 in /system/conda/miniconda3/envs/cloudspace/lib/python3.10/site-packages (from jupyterlab-server<3,>=2.27.1->notebook>=6.4.0->featherface==2.0.0) (2.17.0)\n",
      "Requirement already satisfied: json5>=0.9.0 in /system/conda/miniconda3/envs/cloudspace/lib/python3.10/site-packages (from jupyterlab-server<3,>=2.27.1->notebook>=6.4.0->featherface==2.0.0) (0.12.0)\n",
      "Requirement already satisfied: jsonschema>=4.18.0 in /system/conda/miniconda3/envs/cloudspace/lib/python3.10/site-packages (from jupyterlab-server<3,>=2.27.1->notebook>=6.4.0->featherface==2.0.0) (4.23.0)\n",
      "Requirement already satisfied: requests>=2.31 in /system/conda/miniconda3/envs/cloudspace/lib/python3.10/site-packages (from jupyterlab-server<3,>=2.27.1->notebook>=6.4.0->featherface==2.0.0) (2.32.3)\n",
      "Requirement already satisfied: idna>=2.8 in /system/conda/miniconda3/envs/cloudspace/lib/python3.10/site-packages (from anyio>=3.1.0->jupyter-server<3,>=2.4.0->notebook>=6.4.0->featherface==2.0.0) (3.10)\n",
      "Requirement already satisfied: sniffio>=1.1 in /system/conda/miniconda3/envs/cloudspace/lib/python3.10/site-packages (from anyio>=3.1.0->jupyter-server<3,>=2.4.0->notebook>=6.4.0->featherface==2.0.0) (1.3.1)\n",
      "Requirement already satisfied: typing_extensions>=4.5 in /system/conda/miniconda3/envs/cloudspace/lib/python3.10/site-packages (from anyio>=3.1.0->jupyter-server<3,>=2.4.0->notebook>=6.4.0->featherface==2.0.0) (4.13.2)\n",
      "Requirement already satisfied: argon2-cffi-bindings in /system/conda/miniconda3/envs/cloudspace/lib/python3.10/site-packages (from argon2-cffi>=21.1->jupyter-server<3,>=2.4.0->notebook>=6.4.0->featherface==2.0.0) (21.2.0)\n",
      "Requirement already satisfied: certifi in /system/conda/miniconda3/envs/cloudspace/lib/python3.10/site-packages (from httpx>=0.25.0->jupyterlab->jupyter>=1.0.0->featherface==2.0.0) (2025.4.26)\n",
      "Requirement already satisfied: httpcore==1.* in /system/conda/miniconda3/envs/cloudspace/lib/python3.10/site-packages (from httpx>=0.25.0->jupyterlab->jupyter>=1.0.0->featherface==2.0.0) (1.0.9)\n",
      "Requirement already satisfied: h11>=0.16 in /system/conda/miniconda3/envs/cloudspace/lib/python3.10/site-packages (from httpcore==1.*->httpx>=0.25.0->jupyterlab->jupyter>=1.0.0->featherface==2.0.0) (0.16.0)\n",
      "Requirement already satisfied: debugpy>=1.6.5 in /system/conda/miniconda3/envs/cloudspace/lib/python3.10/site-packages (from ipykernel->jupyter>=1.0.0->featherface==2.0.0) (1.8.14)\n",
      "Requirement already satisfied: nest-asyncio in /system/conda/miniconda3/envs/cloudspace/lib/python3.10/site-packages (from ipykernel->jupyter>=1.0.0->featherface==2.0.0) (1.6.0)\n",
      "Requirement already satisfied: psutil in /system/conda/miniconda3/envs/cloudspace/lib/python3.10/site-packages (from ipykernel->jupyter>=1.0.0->featherface==2.0.0) (7.0.0)\n",
      "Requirement already satisfied: MarkupSafe>=2.0 in /system/conda/miniconda3/envs/cloudspace/lib/python3.10/site-packages (from jinja2>=3.0.3->jupyter-server<3,>=2.4.0->notebook>=6.4.0->featherface==2.0.0) (3.0.2)\n",
      "Requirement already satisfied: attrs>=22.2.0 in /system/conda/miniconda3/envs/cloudspace/lib/python3.10/site-packages (from jsonschema>=4.18.0->jupyterlab-server<3,>=2.27.1->notebook>=6.4.0->featherface==2.0.0) (25.3.0)\n",
      "Requirement already satisfied: jsonschema-specifications>=2023.03.6 in /system/conda/miniconda3/envs/cloudspace/lib/python3.10/site-packages (from jsonschema>=4.18.0->jupyterlab-server<3,>=2.27.1->notebook>=6.4.0->featherface==2.0.0) (2025.4.1)\n",
      "Requirement already satisfied: referencing>=0.28.4 in /system/conda/miniconda3/envs/cloudspace/lib/python3.10/site-packages (from jsonschema>=4.18.0->jupyterlab-server<3,>=2.27.1->notebook>=6.4.0->featherface==2.0.0) (0.36.2)\n",
      "Requirement already satisfied: rpds-py>=0.7.1 in /system/conda/miniconda3/envs/cloudspace/lib/python3.10/site-packages (from jsonschema>=4.18.0->jupyterlab-server<3,>=2.27.1->notebook>=6.4.0->featherface==2.0.0) (0.24.0)\n",
      "Requirement already satisfied: platformdirs>=2.5 in /system/conda/miniconda3/envs/cloudspace/lib/python3.10/site-packages (from jupyter-core!=5.0.*,>=4.12->jupyter-server<3,>=2.4.0->notebook>=6.4.0->featherface==2.0.0) (4.3.8)\n",
      "Requirement already satisfied: python-json-logger>=2.0.4 in /system/conda/miniconda3/envs/cloudspace/lib/python3.10/site-packages (from jupyter-events>=0.11.0->jupyter-server<3,>=2.4.0->notebook>=6.4.0->featherface==2.0.0) (3.3.0)\n",
      "Requirement already satisfied: rfc3339-validator in /system/conda/miniconda3/envs/cloudspace/lib/python3.10/site-packages (from jupyter-events>=0.11.0->jupyter-server<3,>=2.4.0->notebook>=6.4.0->featherface==2.0.0) (0.1.4)\n",
      "Requirement already satisfied: rfc3986-validator>=0.1.1 in /system/conda/miniconda3/envs/cloudspace/lib/python3.10/site-packages (from jupyter-events>=0.11.0->jupyter-server<3,>=2.4.0->notebook>=6.4.0->featherface==2.0.0) (0.1.1)\n",
      "Requirement already satisfied: fqdn in /system/conda/miniconda3/envs/cloudspace/lib/python3.10/site-packages (from jsonschema[format-nongpl]>=4.18.0->jupyter-events>=0.11.0->jupyter-server<3,>=2.4.0->notebook>=6.4.0->featherface==2.0.0) (1.5.1)\n",
      "Requirement already satisfied: isoduration in /system/conda/miniconda3/envs/cloudspace/lib/python3.10/site-packages (from jsonschema[format-nongpl]>=4.18.0->jupyter-events>=0.11.0->jupyter-server<3,>=2.4.0->notebook>=6.4.0->featherface==2.0.0) (20.11.0)\n",
      "Requirement already satisfied: jsonpointer>1.13 in /system/conda/miniconda3/envs/cloudspace/lib/python3.10/site-packages (from jsonschema[format-nongpl]>=4.18.0->jupyter-events>=0.11.0->jupyter-server<3,>=2.4.0->notebook>=6.4.0->featherface==2.0.0) (3.0.0)\n",
      "Requirement already satisfied: uri-template in /system/conda/miniconda3/envs/cloudspace/lib/python3.10/site-packages (from jsonschema[format-nongpl]>=4.18.0->jupyter-events>=0.11.0->jupyter-server<3,>=2.4.0->notebook>=6.4.0->featherface==2.0.0) (1.3.0)\n",
      "Requirement already satisfied: webcolors>=24.6.0 in /system/conda/miniconda3/envs/cloudspace/lib/python3.10/site-packages (from jsonschema[format-nongpl]>=4.18.0->jupyter-events>=0.11.0->jupyter-server<3,>=2.4.0->notebook>=6.4.0->featherface==2.0.0) (24.11.1)\n",
      "Requirement already satisfied: beautifulsoup4 in /system/conda/miniconda3/envs/cloudspace/lib/python3.10/site-packages (from nbconvert->jupyter>=1.0.0->featherface==2.0.0) (4.13.4)\n",
      "Requirement already satisfied: bleach!=5.0.0 in /system/conda/miniconda3/envs/cloudspace/lib/python3.10/site-packages (from bleach[css]!=5.0.0->nbconvert->jupyter>=1.0.0->featherface==2.0.0) (6.2.0)\n",
      "Requirement already satisfied: defusedxml in /system/conda/miniconda3/envs/cloudspace/lib/python3.10/site-packages (from nbconvert->jupyter>=1.0.0->featherface==2.0.0) (0.7.1)\n",
      "Requirement already satisfied: jupyterlab-pygments in /system/conda/miniconda3/envs/cloudspace/lib/python3.10/site-packages (from nbconvert->jupyter>=1.0.0->featherface==2.0.0) (0.3.0)\n",
      "Requirement already satisfied: mistune<4,>=2.0.3 in /system/conda/miniconda3/envs/cloudspace/lib/python3.10/site-packages (from nbconvert->jupyter>=1.0.0->featherface==2.0.0) (3.1.3)\n",
      "Requirement already satisfied: nbclient>=0.5.0 in /system/conda/miniconda3/envs/cloudspace/lib/python3.10/site-packages (from nbconvert->jupyter>=1.0.0->featherface==2.0.0) (0.10.2)\n",
      "Requirement already satisfied: pandocfilters>=1.4.1 in /system/conda/miniconda3/envs/cloudspace/lib/python3.10/site-packages (from nbconvert->jupyter>=1.0.0->featherface==2.0.0) (1.5.1)\n",
      "Requirement already satisfied: webencodings in /system/conda/miniconda3/envs/cloudspace/lib/python3.10/site-packages (from bleach!=5.0.0->bleach[css]!=5.0.0->nbconvert->jupyter>=1.0.0->featherface==2.0.0) (0.5.1)\n",
      "Requirement already satisfied: tinycss2<1.5,>=1.1.0 in /system/conda/miniconda3/envs/cloudspace/lib/python3.10/site-packages (from bleach[css]!=5.0.0->nbconvert->jupyter>=1.0.0->featherface==2.0.0) (1.4.0)\n",
      "Requirement already satisfied: fastjsonschema>=2.15 in /system/conda/miniconda3/envs/cloudspace/lib/python3.10/site-packages (from nbformat>=5.3.0->jupyter-server<3,>=2.4.0->notebook>=6.4.0->featherface==2.0.0) (2.21.1)\n",
      "Requirement already satisfied: protobuf>=3.20.2 in /system/conda/miniconda3/envs/cloudspace/lib/python3.10/site-packages (from onnx>=1.10.0->featherface==2.0.0) (4.23.4)\n",
      "Requirement already satisfied: rich in /system/conda/miniconda3/envs/cloudspace/lib/python3.10/site-packages (from onnx-simplifier>=0.3.0->featherface==2.0.0) (14.0.0)\n",
      "Requirement already satisfied: coloredlogs in /system/conda/miniconda3/envs/cloudspace/lib/python3.10/site-packages (from onnxruntime>=1.9.0->featherface==2.0.0) (15.0.1)\n",
      "Requirement already satisfied: flatbuffers in /system/conda/miniconda3/envs/cloudspace/lib/python3.10/site-packages (from onnxruntime>=1.9.0->featherface==2.0.0) (25.2.10)\n",
      "Requirement already satisfied: sympy in /system/conda/miniconda3/envs/cloudspace/lib/python3.10/site-packages (from onnxruntime>=1.9.0->featherface==2.0.0) (1.14.0)\n",
      "Requirement already satisfied: pytz>=2020.1 in /system/conda/miniconda3/envs/cloudspace/lib/python3.10/site-packages (from pandas>=1.3.0->featherface==2.0.0) (2025.2)\n",
      "Requirement already satisfied: tzdata>=2022.1 in /system/conda/miniconda3/envs/cloudspace/lib/python3.10/site-packages (from pandas>=1.3.0->featherface==2.0.0) (2025.2)\n",
      "Requirement already satisfied: ptyprocess>=0.5 in /system/conda/miniconda3/envs/cloudspace/lib/python3.10/site-packages (from pexpect>4.3->ipython>=6.1.0->ipywidgets>=7.6.0->featherface==2.0.0) (0.7.0)\n",
      "Requirement already satisfied: annotated-types>=0.6.0 in /system/conda/miniconda3/envs/cloudspace/lib/python3.10/site-packages (from pydantic>=2.9.2->albumentations>=1.0.0->featherface==2.0.0) (0.7.0)\n",
      "Requirement already satisfied: pydantic-core==2.33.2 in /system/conda/miniconda3/envs/cloudspace/lib/python3.10/site-packages (from pydantic>=2.9.2->albumentations>=1.0.0->featherface==2.0.0) (2.33.2)\n",
      "Requirement already satisfied: typing-inspection>=0.4.0 in /system/conda/miniconda3/envs/cloudspace/lib/python3.10/site-packages (from pydantic>=2.9.2->albumentations>=1.0.0->featherface==2.0.0) (0.4.0)\n",
      "Requirement already satisfied: six>=1.5 in /system/conda/miniconda3/envs/cloudspace/lib/python3.10/site-packages (from python-dateutil>=2.7->matplotlib>=3.3.0->featherface==2.0.0) (1.17.0)\n",
      "Requirement already satisfied: charset-normalizer<4,>=2 in /system/conda/miniconda3/envs/cloudspace/lib/python3.10/site-packages (from requests>=2.31->jupyterlab-server<3,>=2.27.1->notebook>=6.4.0->featherface==2.0.0) (3.4.2)\n",
      "Requirement already satisfied: urllib3<3,>=1.21.1 in /system/conda/miniconda3/envs/cloudspace/lib/python3.10/site-packages (from requests>=2.31->jupyterlab-server<3,>=2.27.1->notebook>=6.4.0->featherface==2.0.0) (2.4.0)\n",
      "Requirement already satisfied: joblib>=1.1.1 in /system/conda/miniconda3/envs/cloudspace/lib/python3.10/site-packages (from scikit-learn>=0.24.0->featherface==2.0.0) (1.5.0)\n",
      "Requirement already satisfied: threadpoolctl>=2.0.0 in /system/conda/miniconda3/envs/cloudspace/lib/python3.10/site-packages (from scikit-learn>=0.24.0->featherface==2.0.0) (3.6.0)\n",
      "Requirement already satisfied: absl-py>=0.4 in /system/conda/miniconda3/envs/cloudspace/lib/python3.10/site-packages (from tensorboard>=2.7.0->featherface==2.0.0) (2.2.2)\n",
      "Requirement already satisfied: grpcio>=1.48.2 in /system/conda/miniconda3/envs/cloudspace/lib/python3.10/site-packages (from tensorboard>=2.7.0->featherface==2.0.0) (1.71.0)\n",
      "Requirement already satisfied: google-auth<3,>=1.6.3 in /system/conda/miniconda3/envs/cloudspace/lib/python3.10/site-packages (from tensorboard>=2.7.0->featherface==2.0.0) (2.40.1)\n",
      "Requirement already satisfied: google-auth-oauthlib<2,>=0.5 in /system/conda/miniconda3/envs/cloudspace/lib/python3.10/site-packages (from tensorboard>=2.7.0->featherface==2.0.0) (1.2.2)\n",
      "Requirement already satisfied: markdown>=2.6.8 in /system/conda/miniconda3/envs/cloudspace/lib/python3.10/site-packages (from tensorboard>=2.7.0->featherface==2.0.0) (3.8)\n",
      "Requirement already satisfied: tensorboard-data-server<0.8.0,>=0.7.0 in /system/conda/miniconda3/envs/cloudspace/lib/python3.10/site-packages (from tensorboard>=2.7.0->featherface==2.0.0) (0.7.2)\n",
      "Requirement already satisfied: werkzeug>=1.0.1 in /system/conda/miniconda3/envs/cloudspace/lib/python3.10/site-packages (from tensorboard>=2.7.0->featherface==2.0.0) (3.1.3)\n",
      "Requirement already satisfied: cachetools<6.0,>=2.0.0 in /system/conda/miniconda3/envs/cloudspace/lib/python3.10/site-packages (from google-auth<3,>=1.6.3->tensorboard>=2.7.0->featherface==2.0.0) (5.5.2)\n",
      "Requirement already satisfied: pyasn1-modules>=0.2.1 in /system/conda/miniconda3/envs/cloudspace/lib/python3.10/site-packages (from google-auth<3,>=1.6.3->tensorboard>=2.7.0->featherface==2.0.0) (0.4.2)\n",
      "Requirement already satisfied: rsa<5,>=3.1.4 in /system/conda/miniconda3/envs/cloudspace/lib/python3.10/site-packages (from google-auth<3,>=1.6.3->tensorboard>=2.7.0->featherface==2.0.0) (4.9.1)\n",
      "Requirement already satisfied: requests-oauthlib>=0.7.0 in /system/conda/miniconda3/envs/cloudspace/lib/python3.10/site-packages (from google-auth-oauthlib<2,>=0.5->tensorboard>=2.7.0->featherface==2.0.0) (2.0.0)\n",
      "Requirement already satisfied: pyasn1>=0.1.3 in /system/conda/miniconda3/envs/cloudspace/lib/python3.10/site-packages (from rsa<5,>=3.1.4->google-auth<3,>=1.6.3->tensorboard>=2.7.0->featherface==2.0.0) (0.6.1)\n",
      "Requirement already satisfied: oauthlib>=3.0.0 in /system/conda/miniconda3/envs/cloudspace/lib/python3.10/site-packages (from requests-oauthlib>=0.7.0->google-auth-oauthlib<2,>=0.5->tensorboard>=2.7.0->featherface==2.0.0) (3.2.2)\n",
      "Requirement already satisfied: huggingface_hub in /system/conda/miniconda3/envs/cloudspace/lib/python3.10/site-packages (from timm>=0.5.0->featherface==2.0.0) (0.32.3)\n",
      "Requirement already satisfied: safetensors in /system/conda/miniconda3/envs/cloudspace/lib/python3.10/site-packages (from timm>=0.5.0->featherface==2.0.0) (0.5.3)\n",
      "Requirement already satisfied: filelock in /system/conda/miniconda3/envs/cloudspace/lib/python3.10/site-packages (from torch>=1.10.0->featherface==2.0.0) (3.18.0)\n",
      "Requirement already satisfied: networkx in /system/conda/miniconda3/envs/cloudspace/lib/python3.10/site-packages (from torch>=1.10.0->featherface==2.0.0) (3.4.2)\n",
      "Requirement already satisfied: fsspec in /system/conda/miniconda3/envs/cloudspace/lib/python3.10/site-packages (from torch>=1.10.0->featherface==2.0.0) (2025.3.2)\n",
      "Requirement already satisfied: nvidia-cuda-nvrtc-cu12==12.8.61 in /system/conda/miniconda3/envs/cloudspace/lib/python3.10/site-packages (from torch>=1.10.0->featherface==2.0.0) (12.8.61)\n",
      "Requirement already satisfied: nvidia-cuda-runtime-cu12==12.8.57 in /system/conda/miniconda3/envs/cloudspace/lib/python3.10/site-packages (from torch>=1.10.0->featherface==2.0.0) (12.8.57)\n",
      "Requirement already satisfied: nvidia-cuda-cupti-cu12==12.8.57 in /system/conda/miniconda3/envs/cloudspace/lib/python3.10/site-packages (from torch>=1.10.0->featherface==2.0.0) (12.8.57)\n",
      "Requirement already satisfied: nvidia-cudnn-cu12==9.7.1.26 in /system/conda/miniconda3/envs/cloudspace/lib/python3.10/site-packages (from torch>=1.10.0->featherface==2.0.0) (9.7.1.26)\n",
      "Requirement already satisfied: nvidia-cublas-cu12==12.8.3.14 in /system/conda/miniconda3/envs/cloudspace/lib/python3.10/site-packages (from torch>=1.10.0->featherface==2.0.0) (12.8.3.14)\n",
      "Requirement already satisfied: nvidia-cufft-cu12==11.3.3.41 in /system/conda/miniconda3/envs/cloudspace/lib/python3.10/site-packages (from torch>=1.10.0->featherface==2.0.0) (11.3.3.41)\n",
      "Requirement already satisfied: nvidia-curand-cu12==10.3.9.55 in /system/conda/miniconda3/envs/cloudspace/lib/python3.10/site-packages (from torch>=1.10.0->featherface==2.0.0) (10.3.9.55)\n",
      "Requirement already satisfied: nvidia-cusolver-cu12==11.7.2.55 in /system/conda/miniconda3/envs/cloudspace/lib/python3.10/site-packages (from torch>=1.10.0->featherface==2.0.0) (11.7.2.55)\n",
      "Requirement already satisfied: nvidia-cusparse-cu12==12.5.7.53 in /system/conda/miniconda3/envs/cloudspace/lib/python3.10/site-packages (from torch>=1.10.0->featherface==2.0.0) (12.5.7.53)\n",
      "Requirement already satisfied: nvidia-cusparselt-cu12==0.6.3 in /system/conda/miniconda3/envs/cloudspace/lib/python3.10/site-packages (from torch>=1.10.0->featherface==2.0.0) (0.6.3)\n",
      "Requirement already satisfied: nvidia-nccl-cu12==2.26.2 in /system/conda/miniconda3/envs/cloudspace/lib/python3.10/site-packages (from torch>=1.10.0->featherface==2.0.0) (2.26.2)\n",
      "Requirement already satisfied: nvidia-nvtx-cu12==12.8.55 in /system/conda/miniconda3/envs/cloudspace/lib/python3.10/site-packages (from torch>=1.10.0->featherface==2.0.0) (12.8.55)\n",
      "Requirement already satisfied: nvidia-nvjitlink-cu12==12.8.61 in /system/conda/miniconda3/envs/cloudspace/lib/python3.10/site-packages (from torch>=1.10.0->featherface==2.0.0) (12.8.61)\n",
      "Requirement already satisfied: nvidia-cufile-cu12==1.13.0.11 in /system/conda/miniconda3/envs/cloudspace/lib/python3.10/site-packages (from torch>=1.10.0->featherface==2.0.0) (1.13.0.11)\n",
      "Requirement already satisfied: triton==3.3.0 in /system/conda/miniconda3/envs/cloudspace/lib/python3.10/site-packages (from torch>=1.10.0->featherface==2.0.0) (3.3.0)\n",
      "Requirement already satisfied: mpmath<1.4,>=1.1.0 in /system/conda/miniconda3/envs/cloudspace/lib/python3.10/site-packages (from sympy->onnxruntime>=1.9.0->featherface==2.0.0) (1.3.0)\n",
      "Requirement already satisfied: cffi>=1.0.1 in /system/conda/miniconda3/envs/cloudspace/lib/python3.10/site-packages (from argon2-cffi-bindings->argon2-cffi>=21.1->jupyter-server<3,>=2.4.0->notebook>=6.4.0->featherface==2.0.0) (1.17.1)\n",
      "Requirement already satisfied: pycparser in /system/conda/miniconda3/envs/cloudspace/lib/python3.10/site-packages (from cffi>=1.0.1->argon2-cffi-bindings->argon2-cffi>=21.1->jupyter-server<3,>=2.4.0->notebook>=6.4.0->featherface==2.0.0) (2.22)\n",
      "Requirement already satisfied: soupsieve>1.2 in /system/conda/miniconda3/envs/cloudspace/lib/python3.10/site-packages (from beautifulsoup4->nbconvert->jupyter>=1.0.0->featherface==2.0.0) (2.7)\n",
      "Requirement already satisfied: humanfriendly>=9.1 in /system/conda/miniconda3/envs/cloudspace/lib/python3.10/site-packages (from coloredlogs->onnxruntime>=1.9.0->featherface==2.0.0) (10.0)\n",
      "Requirement already satisfied: hf-xet<2.0.0,>=1.1.2 in /system/conda/miniconda3/envs/cloudspace/lib/python3.10/site-packages (from huggingface_hub->timm>=0.5.0->featherface==2.0.0) (1.1.2)\n",
      "Requirement already satisfied: arrow>=0.15.0 in /system/conda/miniconda3/envs/cloudspace/lib/python3.10/site-packages (from isoduration->jsonschema[format-nongpl]>=4.18.0->jupyter-events>=0.11.0->jupyter-server<3,>=2.4.0->notebook>=6.4.0->featherface==2.0.0) (1.3.0)\n",
      "Requirement already satisfied: types-python-dateutil>=2.8.10 in /system/conda/miniconda3/envs/cloudspace/lib/python3.10/site-packages (from arrow>=0.15.0->isoduration->jsonschema[format-nongpl]>=4.18.0->jupyter-events>=0.11.0->jupyter-server<3,>=2.4.0->notebook>=6.4.0->featherface==2.0.0) (2.9.0.20241206)\n",
      "Requirement already satisfied: markdown-it-py>=2.2.0 in /system/conda/miniconda3/envs/cloudspace/lib/python3.10/site-packages (from rich->onnx-simplifier>=0.3.0->featherface==2.0.0) (3.0.0)\n",
      "Requirement already satisfied: mdurl~=0.1 in /system/conda/miniconda3/envs/cloudspace/lib/python3.10/site-packages (from markdown-it-py>=2.2.0->rich->onnx-simplifier>=0.3.0->featherface==2.0.0) (0.1.2)\n",
      "Requirement already satisfied: executing>=1.2.0 in /system/conda/miniconda3/envs/cloudspace/lib/python3.10/site-packages (from stack-data->ipython>=6.1.0->ipywidgets>=7.6.0->featherface==2.0.0) (2.2.0)\n",
      "Requirement already satisfied: asttokens>=2.1.0 in /system/conda/miniconda3/envs/cloudspace/lib/python3.10/site-packages (from stack-data->ipython>=6.1.0->ipywidgets>=7.6.0->featherface==2.0.0) (3.0.0)\n",
      "Requirement already satisfied: pure-eval in /system/conda/miniconda3/envs/cloudspace/lib/python3.10/site-packages (from stack-data->ipython>=6.1.0->ipywidgets>=7.6.0->featherface==2.0.0) (0.2.3)\n",
      "Building wheels for collected packages: featherface\n",
      "  Building editable for featherface (pyproject.toml) ... \u001b[?25ldone\n",
      "\u001b[?25h  Created wheel for featherface: filename=featherface-2.0.0-0.editable-py3-none-any.whl size=6766 sha256=429bbddee176c75e28a9c403bc03023cd9f925f4dfcf764001ef1a21c2f56ba1\n",
      "  Stored in directory: /tmp/pip-ephem-wheel-cache-qk4qxy89/wheels/e5/25/0d/b1fa017cd463fed7d4ed29962d88edd331d2ec669cbd3734b5\n",
      "Successfully built featherface\n",
      "Installing collected packages: featherface\n",
      "  Attempting uninstall: featherface\n",
      "    Found existing installation: featherface 2.0.0\n",
      "    Uninstalling featherface-2.0.0:\n",
      "      Successfully uninstalled featherface-2.0.0\n",
      "Successfully installed featherface-2.0.0\n",
      "✓ Imports successful\n"
     ]
    }
   ],
   "source": [
    "# Install project in editable mode\n",
    "!pip install -e .\n",
    "\n",
    "# Verify imports work\n",
    "try:\n",
    "    from models.retinaface import RetinaFace\n",
    "    from data import cfg_mnet, WiderFaceDetection\n",
    "    print(\"✓ Imports successful\")\n",
    "except ImportError as e:\n",
    "    print(f\"✗ Import error: {e}\")"
   ]
  },
  {
   "cell_type": "code",
   "execution_count": 3,
   "metadata": {},
   "outputs": [
    {
     "name": "stdout",
     "output_type": "stream",
     "text": [
      "Python version: 3.10.10 (main, Mar 21 2023, 18:45:11) [GCC 11.2.0]\n",
      "PyTorch version: 2.7.0+cu128\n",
      "CUDA available: True\n",
      "CUDA device: NVIDIA H100 80GB HBM3\n",
      "CUDA version: 12.8\n"
     ]
    }
   ],
   "source": [
    "# Verify imports and check GPU\n",
    "import torch\n",
    "import torchvision\n",
    "import cv2\n",
    "import numpy as np\n",
    "import matplotlib.pyplot as plt\n",
    "import gdown\n",
    "import requests\n",
    "import zipfile\n",
    "import tarfile\n",
    "import json\n",
    "from datetime import datetime\n",
    "\n",
    "print(f\"Python version: {sys.version}\")\n",
    "print(f\"PyTorch version: {torch.__version__}\")\n",
    "print(f\"CUDA available: {torch.cuda.is_available()}\")\n",
    "if torch.cuda.is_available():\n",
    "    print(f\"CUDA device: {torch.cuda.get_device_name(0)}\")\n",
    "    print(f\"CUDA version: {torch.version.cuda}\")"
   ]
  },
  {
   "cell_type": "markdown",
   "metadata": {},
   "source": [
    "## 2. Dataset Download and Preparation\n",
    "\n",
    "The dataset will be automatically downloaded when training starts. But we can prepare the directories."
   ]
  },
  {
   "cell_type": "code",
   "execution_count": 4,
   "metadata": {},
   "outputs": [
    {
     "name": "stdout",
     "output_type": "stream",
     "text": [
      "✓ Directory ready: data/widerface\n",
      "✓ Directory ready: weights\n",
      "✓ Directory ready: results\n",
      "✓ Dataset already downloaded: data/widerface.zip\n",
      "\n",
      "✅ Dataset download complete!\n"
     ]
    }
   ],
   "source": [
    "# Check and create data directories\n",
    "import os\n",
    "from pathlib import Path\n",
    "\n",
    "# Create necessary directories\n",
    "data_dir = Path('data/widerface')\n",
    "data_root=Path('data')\n",
    "weights_dir = Path('weights')\n",
    "results_dir = Path('results')\n",
    "\n",
    "\n",
    "# WIDERFace download links\n",
    "WIDERFACE_GDRIVE_ID = '11UGV3nbVv1x9IC--_tK3Uxf7hA6rlbsS'\n",
    "WIDERFACE_URL = f'https://drive.google.com/uc?id={WIDERFACE_GDRIVE_ID}'\n",
    "\n",
    "for dir_path in [data_dir, weights_dir, results_dir]:\n",
    "    dir_path.mkdir(parents=True, exist_ok=True)\n",
    "    print(f\"✓ Directory ready: {dir_path}\")\n",
    "\n",
    "\n",
    "def download_widerface():\n",
    "    \"\"\"Download WIDERFace dataset from Google Drive\"\"\"\n",
    "    output_path = data_root/ 'widerface.zip'\n",
    "    \n",
    "    if not output_path.exists():\n",
    "        print(\"Downloading WIDERFace dataset...\")\n",
    "        print(\"This may take several minutes depending on your connection.\")\n",
    "        \n",
    "        try:\n",
    "            gdown.download(WIDERFACE_URL, str(output_path), quiet=False)\n",
    "            print(f\"✓ Downloaded to {output_path}\")\n",
    "        except Exception as e:\n",
    "            print(f\"❌ Download failed: {e}\")\n",
    "            print(\"Please download manually from:\")\n",
    "            print(f\"  {WIDERFACE_URL}\")\n",
    "            return False\n",
    "    else:\n",
    "        print(f\"✓ Dataset already downloaded: {output_path}\")\n",
    "    \n",
    "    return True\n",
    "\n",
    "# Download dataset\n",
    "if download_widerface():\n",
    "    print(\"\\n✅ Dataset download complete!\")\n",
    "else:\n",
    "    print(\"\\n❌ Please download the dataset manually.\")"
   ]
  },
  {
   "cell_type": "code",
   "execution_count": 5,
   "metadata": {},
   "outputs": [
    {
     "name": "stdout",
     "output_type": "stream",
     "text": [
      "✓ Dataset already extracted\n",
      "\n",
      "✅ Dataset ready for use!\n"
     ]
    }
   ],
   "source": [
    "# Extract dataset\n",
    "def extract_widerface():\n",
    "    \"\"\"Extract WIDERFace dataset\"\"\"\n",
    "    zip_path = data_root / 'widerface.zip'\n",
    "    \n",
    "    if not zip_path.exists():\n",
    "        print(\"❌ Dataset zip file not found. Please download first.\")\n",
    "        return False\n",
    "    \n",
    "    # Check if already extracted\n",
    "    if (data_dir / 'train' / 'label.txt').absolute().exists() and \\\n",
    "       (data_dir / 'val' / 'wider_val.txt').absolute().exists():\n",
    "        print(\"✓ Dataset already extracted\")\n",
    "        return True\n",
    "    \n",
    "    print(\"Extracting dataset...\")\n",
    "    try:\n",
    "        with zipfile.ZipFile(zip_path, 'r') as zip_ref:\n",
    "            zip_ref.extractall(data_root)\n",
    "        print(\"✓ Dataset extracted successfully\")\n",
    "        return True\n",
    "    except Exception as e:\n",
    "        print(f\"❌ Extraction failed: {e}\")\n",
    "        return False\n",
    "\n",
    "# Extract dataset\n",
    "if extract_widerface():\n",
    "    print(\"\\n✅ Dataset ready for use!\")\n",
    "else:\n",
    "    print(\"\\n❌ Please extract the dataset manually.\")"
   ]
  },
  {
   "cell_type": "code",
   "execution_count": 6,
   "metadata": {},
   "outputs": [
    {
     "name": "stdout",
     "output_type": "stream",
     "text": [
      "✓ Found: /teamspace/studios/this_studio/FeatherFace/data/widerface/train/label.txt\n",
      "✓ Found: /teamspace/studios/this_studio/FeatherFace/data/widerface/val/wider_val.txt\n",
      "✓ train images: 12880 found\n",
      "✓ val images: 3226 found\n",
      "\n",
      "Dataset verification: PASSED ✅\n"
     ]
    }
   ],
   "source": [
    "# Verify dataset structure\n",
    "def verify_dataset():\n",
    "    \"\"\"Verify WIDERFace dataset structure\"\"\"\n",
    "    required_files = [\n",
    "        data_dir / 'train' / 'label.txt',\n",
    "        data_dir / 'val' / 'wider_val.txt'\n",
    "    ]\n",
    "    \n",
    "    all_present = True\n",
    "    for file_path in required_files:\n",
    "        if file_path.absolute().exists():\n",
    "            print(f\"✓ Found: {file_path.absolute()}\")\n",
    "        else:\n",
    "            print(f\"✗ Missing: {file_path.absolute()}\")\n",
    "            all_present = False\n",
    "    \n",
    "    # Check for images\n",
    "    for split in ['train', 'val']:\n",
    "        img_dir = data_dir / split / 'images'\n",
    "        if img_dir.exists():\n",
    "            img_count = len(list(img_dir.glob('**/*.jpg')))\n",
    "            print(f\"✓ {split} images: {img_count} found\")\n",
    "        else:\n",
    "            print(f\"✗ {split} images directory not found\")\n",
    "            all_present = False\n",
    "    \n",
    "    return all_present\n",
    "\n",
    "dataset_ready = verify_dataset()\n",
    "print(f\"\\nDataset verification: {'PASSED ✅' if dataset_ready else 'FAILED ❌'}\")"
   ]
  },
  {
   "cell_type": "markdown",
   "metadata": {},
   "source": [
    "## 3. Download Pre-trained Weights\n",
    "\n",
    "The model requires pre-trained MobileNetV1 0.25x weights."
   ]
  },
  {
   "cell_type": "code",
   "execution_count": 7,
   "metadata": {},
   "outputs": [
    {
     "name": "stdout",
     "output_type": "stream",
     "text": [
      "=== Pre-trained Weights Download Instructions ===\n",
      "\n",
      "Weights should be placed at: /teamspace/studios/this_studio/FeatherFace/weights/mobilenetV1X0.25_pretrain.tar\n",
      "\n",
      "Download from:\n",
      "https://drive.google.com/open?id=1oZRSG0ZegbVkVwUd8wUIQx8W7yfZ_ki1\n",
      "\n",
      "Save as: weights/mobilenetV1X0.25_pretrain.tar\n",
      "\n",
      "✓ Pre-trained weights found: weights/mobilenetV1X0.25_pretrain.tar\n"
     ]
    }
   ],
   "source": [
    "# Pre-trained weights info\n",
    "PRETRAIN_FILENAME = 'mobilenetV1X0.25_pretrain.tar'\n",
    "pretrain_path = weights_dir / PRETRAIN_FILENAME\n",
    "\n",
    "print(\"=== Pre-trained Weights Download Instructions ===\")\n",
    "print(f\"\\nWeights should be placed at: {pretrain_path.absolute()}\")\n",
    "print(\"\\nDownload from:\")\n",
    "print(\"https://drive.google.com/open?id=1oZRSG0ZegbVkVwUd8wUIQx8W7yfZ_ki1\")\n",
    "print(f\"\\nSave as: {pretrain_path.relative_to('.')}\")\n",
    "\n",
    "if pretrain_path.exists():\n",
    "    print(f\"\\n✓ Pre-trained weights found: {pretrain_path.relative_to('.')}\")\n",
    "else:\n",
    "    print(f\"\\n✗ Pre-trained weights not found. Please download manually.\")"
   ]
  },
  {
   "cell_type": "markdown",
   "metadata": {},
   "source": [
    "## 4. Model Configuration and Training Parameters"
   ]
  },
  {
   "cell_type": "code",
   "execution_count": 8,
   "metadata": {},
   "outputs": [
    {
     "name": "stdout",
     "output_type": "stream",
     "text": [
      "Training Configuration:\n",
      "  network: mobile0.25\n",
      "  num_workers: 16\n",
      "  momentum: 0.9\n",
      "  weight_decay: 0.0005\n",
      "  gamma: 0.1\n",
      "  save_folder: weights/\n",
      "  resume_net: ./weights/mobilenet0.25_epoch_150.pth\n",
      "  resume_epoch: 151\n",
      "  training_dataset: ./data/widerface/train/label.txt\n",
      "\n",
      "Model Configuration (cfg_mnet):\n",
      "  batch_size: 32\n",
      "  epochs: 350\n",
      "  lr: 0.001\n",
      "  gpu_train: True\n"
     ]
    }
   ],
   "source": [
    "# Training parameters from original repository\n",
    "TRAIN_CONFIG = {\n",
    "    'network': 'mobile0.25',\n",
    "    'num_workers': 16,  # Adjust based on your system\n",
    "    'momentum': 0.9,\n",
    "    'weight_decay': 5e-4,\n",
    "    'gamma': 0.1,\n",
    "    'save_folder': 'weights/',\n",
    "    'resume_net': './weights/mobilenet0.25_epoch_150.pth',  # Will be set to pretrained weights\n",
    "    'resume_epoch': 151,\n",
    "    'training_dataset': './data/widerface/train/label.txt'\n",
    "}\n",
    "\n",
    "# Additional config from cfg_mnet\n",
    "from data import cfg_mnet\n",
    "\n",
    "print(\"Training Configuration:\")\n",
    "for key, value in TRAIN_CONFIG.items():\n",
    "    print(f\"  {key}: {value}\")\n",
    "    \n",
    "print(\"\\nModel Configuration (cfg_mnet):\")\n",
    "print(f\"  batch_size: {cfg_mnet['batch_size']}\")\n",
    "print(f\"  epochs: {cfg_mnet['epoch']}\")\n",
    "print(f\"  lr: {cfg_mnet['lr']}\")\n",
    "print(f\"  gpu_train: {cfg_mnet['gpu_train']}\")"
   ]
  },
  {
   "cell_type": "markdown",
   "metadata": {},
   "source": [
    "## 5. Training Process\n",
    "\n",
    "We'll use the original train.py script with our configuration."
   ]
  },
  {
   "cell_type": "code",
   "execution_count": 9,
   "metadata": {},
   "outputs": [
    {
     "name": "stdout",
     "output_type": "stream",
     "text": [
      "Training command:\n",
      "/home/zeus/miniconda3/envs/cloudspace/bin/python train.py --training_dataset ./data/widerface/train/label.txt --network mobile0.25 --num_workers 16 --momentum 0.9 --weight_decay 0.0005 --gamma 0.1 --save_folder weights/ --resume_net ./weights/mobilenet0.25_epoch_150.pth --resume_epoch 151\n",
      "\n",
      "Note: The training script uses configuration from data/config.py for:\n",
      "  - Learning rate (lr)\n",
      "  - Batch size\n",
      "  - Number of epochs\n",
      "  - GPU settings\n",
      "  - Pretrain flag\n"
     ]
    }
   ],
   "source": [
    "# Prepare training command\n",
    "import subprocess\n",
    "import sys\n",
    "\n",
    "# Build command arguments based on train.py argparse\n",
    "train_args = [\n",
    "    sys.executable, 'train.py',\n",
    "    '--training_dataset', TRAIN_CONFIG['training_dataset'],\n",
    "    '--network', TRAIN_CONFIG['network'],\n",
    "    '--num_workers', str(TRAIN_CONFIG['num_workers']),\n",
    "    '--momentum', str(TRAIN_CONFIG['momentum']),\n",
    "    '--weight_decay', str(TRAIN_CONFIG['weight_decay']),\n",
    "    '--gamma', str(TRAIN_CONFIG['gamma']),\n",
    "    '--save_folder', TRAIN_CONFIG['save_folder']\n",
    "]\n",
    "\n",
    "# Add resume options if specified\n",
    "if TRAIN_CONFIG['resume_net']:\n",
    "    train_args.extend(['--resume_net', TRAIN_CONFIG['resume_net']])\n",
    "    train_args.extend(['--resume_epoch', str(TRAIN_CONFIG['resume_epoch'])])\n",
    "\n",
    "print(\"Training command:\")\n",
    "print(' '.join(train_args))\n",
    "\n",
    "print(\"\\nNote: The training script uses configuration from data/config.py for:\")\n",
    "print(\"  - Learning rate (lr)\")\n",
    "print(\"  - Batch size\")\n",
    "print(\"  - Number of epochs\")\n",
    "print(\"  - GPU settings\")\n",
    "print(\"  - Pretrain flag\")"
   ]
  },
  {
   "cell_type": "markdown",
   "metadata": {},
   "source": [
    "### Check Pre-trained Weights\n",
    "\n",
    "The training script expects pre-trained MobileNetV1 weights if cfg_mnet['pretrain'] is True."
   ]
  },
  {
   "cell_type": "code",
   "execution_count": 10,
   "metadata": {},
   "outputs": [
    {
     "name": "stdout",
     "output_type": "stream",
     "text": [
      "✓ Pre-trained weights found: weights/mobilenetV1X0.25_pretrain.tar\n"
     ]
    }
   ],
   "source": [
    "# Check for pretrained weights\n",
    "pretrain_path = Path('weights/mobilenetV1X0.25_pretrain.tar')\n",
    "if pretrain_path.exists():\n",
    "    print(f\"✓ Pre-trained weights found: {pretrain_path}\")\n",
    "else:\n",
    "    print(f\"✗ Pre-trained weights not found: {pretrain_path}\")\n",
    "    print(\"\\nDownload from: https://drive.google.com/open?id=1oZRSG0ZegbVkVwUd8wUIQx8W7yfZ_ki1\")\n",
    "    print(\"Save to: weights/mobilenetV1X0.25_pretrain.tar\")"
   ]
  },
  {
   "cell_type": "code",
   "execution_count": 11,
   "metadata": {},
   "outputs": [],
   "source": [
    "# Option 1: Run training directly (recommended for full training)\n",
    "# Uncomment to run:\n",
    "#result = subprocess.run(train_args, capture_output=True, text=True)\n",
    "#print(result.stdout)\n",
    "#if result.stderr:\n",
    "#    print(\"Errors:\", result.stderr)\n",
    "\n",
    "# Option 2: Show manual command for terminal execution\n",
    "#print(\"\\n=== To train manually in terminal ===\")\n",
    "#print(\"Navigate to project root and run:\")\n",
    "#print(' '.join(train_args).replace(sys.executable, 'python'))"
   ]
  },
  {
   "cell_type": "markdown",
   "metadata": {},
   "source": [
    "## 6. Model Evaluation on WIDERFace\n",
    "\n",
    "After training completes, we evaluate the model using test_widerface.py"
   ]
  },
  {
   "cell_type": "code",
   "execution_count": 12,
   "metadata": {},
   "outputs": [
    {
     "name": "stdout",
     "output_type": "stream",
     "text": [
      "Found checkpoint: weights/mobilenet0.25_epoch_90.pth\n"
     ]
    }
   ],
   "source": [
    "# Check for trained model\n",
    "import glob\n",
    "\n",
    "# Find the latest checkpoint\n",
    "checkpoints = sorted(glob.glob('weights/mobilenet0.25_*.pth'))\n",
    "if checkpoints:\n",
    "    latest_checkpoint = checkpoints[-1]\n",
    "    print(f\"Found checkpoint: {latest_checkpoint}\")\n",
    "else:\n",
    "    print(\"No checkpoints found. Please train the model first.\")\n",
    "    latest_checkpoint = None"
   ]
  },
  {
   "cell_type": "code",
   "execution_count": 13,
   "metadata": {},
   "outputs": [
    {
     "name": "stdout",
     "output_type": "stream",
     "text": [
      "Evaluation Configuration:\n",
      "  trained_model: weights/mobilenet0.25_Final.pth\n",
      "  network: mobile0.25\n",
      "  confidence_threshold: 0.02\n",
      "  top_k: 5000\n",
      "  nms_threshold: 0.4\n",
      "  keep_top_k: 750\n",
      "  save_folder: ./widerface_evaluate/widerface_txt/\n",
      "  dataset_folder: ./data/widerface/val/images/\n",
      "  origin_size: True\n",
      "  save_image: True\n",
      "  vis_thres: 0.5\n",
      "  cpu: False\n"
     ]
    }
   ],
   "source": [
    "# Evaluation parameters\n",
    "EVAL_CONFIG = {\n",
    "    'trained_model':  'weights/mobilenet0.25_Final.pth',\n",
    "    'network': 'mobile0.25',\n",
    "    'confidence_threshold': 0.02,\n",
    "    'top_k': 5000,\n",
    "    'nms_threshold': 0.4,\n",
    "    'keep_top_k': 750,\n",
    "    'save_folder': './widerface_evaluate/widerface_txt/',\n",
    "    'dataset_folder': './data/widerface/val/images/',\n",
    "    'origin_size': 'True',  # String value expected by argparse\n",
    "    'save_image': True,\n",
    "    'vis_thres': 0.5,\n",
    "    'cpu': False  # Set to True if no GPU available\n",
    "}\n",
    "\n",
    "print(\"Evaluation Configuration:\")\n",
    "for key, value in EVAL_CONFIG.items():\n",
    "    print(f\"  {key}: {value}\")"
   ]
  },
  {
   "cell_type": "code",
   "execution_count": 14,
   "metadata": {},
   "outputs": [
    {
     "name": "stdout",
     "output_type": "stream",
     "text": [
      "Evaluation command:\n",
      "/home/zeus/miniconda3/envs/cloudspace/bin/python test_widerface.py -m weights/mobilenet0.25_Final.pth --network mobile0.25 --confidence_threshold 0.02 --top_k 5000 --nms_threshold 0.4 --keep_top_k 750 --save_folder ./widerface_evaluate/widerface_txt/ --dataset_folder ./data/widerface/val/images/ --vis_thres 0.5 --origin_size True --save_image\n"
     ]
    }
   ],
   "source": [
    "# Build evaluation command\n",
    "eval_args = [\n",
    "    sys.executable, 'test_widerface.py',\n",
    "    '-m', EVAL_CONFIG['trained_model'],\n",
    "    '--network', EVAL_CONFIG['network'],\n",
    "    '--confidence_threshold', str(EVAL_CONFIG['confidence_threshold']),\n",
    "    '--top_k', str(EVAL_CONFIG['top_k']),\n",
    "    '--nms_threshold', str(EVAL_CONFIG['nms_threshold']),\n",
    "    '--keep_top_k', str(EVAL_CONFIG['keep_top_k']),\n",
    "    '--save_folder', EVAL_CONFIG['save_folder'],\n",
    "    '--dataset_folder', EVAL_CONFIG['dataset_folder'],\n",
    "    '--vis_thres', str(EVAL_CONFIG['vis_thres']),\n",
    "    '--origin_size', EVAL_CONFIG['origin_size']  # Pass as string value\n",
    "]\n",
    "\n",
    "# Add optional flags\n",
    "if EVAL_CONFIG['save_image']:\n",
    "    eval_args.append('--save_image')\n",
    "    \n",
    "if EVAL_CONFIG['cpu']:\n",
    "    eval_args.append('--cpu')\n",
    "\n",
    "print(\"Evaluation command:\")\n",
    "print(' '.join(eval_args))"
   ]
  },
  {
   "cell_type": "code",
   "execution_count": 15,
   "metadata": {},
   "outputs": [
    {
     "name": "stdout",
     "output_type": "stream",
     "text": [
      "=== Evaluation Arguments Debug ===\n",
      "0: '/home/zeus/miniconda3/envs/cloudspace/bin/python'\n",
      "1: 'test_widerface.py'\n",
      "2: '-m'\n",
      "3: 'weights/mobilenet0.25_Final.pth'\n",
      "4: '--network'\n",
      "5: 'mobile0.25'\n",
      "6: '--confidence_threshold'\n",
      "7: '0.02'\n",
      "8: '--top_k'\n",
      "9: '5000'\n",
      "10: '--nms_threshold'\n",
      "11: '0.4'\n",
      "12: '--keep_top_k'\n",
      "13: '750'\n",
      "14: '--save_folder'\n",
      "15: './widerface_evaluate/widerface_txt/'\n",
      "16: '--dataset_folder'\n",
      "17: './data/widerface/val/images/'\n",
      "18: '--vis_thres'\n",
      "19: '0.5'\n",
      "20: '--origin_size'\n",
      "21: 'True'\n",
      "22: '--save_image'\n",
      "\n",
      "=== Command as string ===\n",
      "/home/zeus/miniconda3/envs/cloudspace/bin/python test_widerface.py -m weights/mobilenet0.25_Final.pth --network mobile0.25 --confidence_threshold 0.02 --top_k 5000 --nms_threshold 0.4 --keep_top_k 750 --save_folder ./widerface_evaluate/widerface_txt/ --dataset_folder ./data/widerface/val/images/ --vis_thres 0.5 --origin_size True --save_image\n"
     ]
    }
   ],
   "source": [
    "# Debug: Check evaluation arguments\n",
    "print(\"=== Evaluation Arguments Debug ===\")\n",
    "for i, arg in enumerate(eval_args):\n",
    "    print(f\"{i}: '{arg}'\")\n",
    "    \n",
    "print(\"\\n=== Command as string ===\")\n",
    "print(' '.join(eval_args))"
   ]
  },
  {
   "cell_type": "markdown",
   "metadata": {},
   "source": [
    "### Alternative: Run without origin_size parameter\n",
    "\n",
    "If you get an error with origin_size, try removing it from the command:"
   ]
  },
  {
   "cell_type": "code",
   "execution_count": 16,
   "metadata": {},
   "outputs": [
    {
     "name": "stdout",
     "output_type": "stream",
     "text": [
      "Alternative command (no origin_size):\n",
      "python test_widerface.py -m weights/mobilenet0.25_Final.pth --network mobile0.25 --confidence_threshold 0.02 --top_k 5000 --nms_threshold 0.4 --keep_top_k 750 --save_folder ./widerface_evaluate/widerface_txt/ --dataset_folder ./data/widerface/val/images/ --vis_thres 0.5 --save_image\n"
     ]
    }
   ],
   "source": [
    "# Alternative evaluation args without origin_size\n",
    "eval_args_no_origin = [\n",
    "    sys.executable, 'test_widerface.py',\n",
    "    '-m', EVAL_CONFIG['trained_model'],\n",
    "    '--network', EVAL_CONFIG['network'],\n",
    "    '--confidence_threshold', str(EVAL_CONFIG['confidence_threshold']),\n",
    "    '--top_k', str(EVAL_CONFIG['top_k']),\n",
    "    '--nms_threshold', str(EVAL_CONFIG['nms_threshold']),\n",
    "    '--keep_top_k', str(EVAL_CONFIG['keep_top_k']),\n",
    "    '--save_folder', EVAL_CONFIG['save_folder'],\n",
    "    '--dataset_folder', EVAL_CONFIG['dataset_folder'],\n",
    "    '--vis_thres', str(EVAL_CONFIG['vis_thres'])\n",
    "]\n",
    "\n",
    "if EVAL_CONFIG['save_image']:\n",
    "    eval_args_no_origin.append('--save_image')\n",
    "if EVAL_CONFIG['cpu']:\n",
    "    eval_args_no_origin.append('--cpu')\n",
    "\n",
    "print(\"Alternative command (no origin_size):\")\n",
    "print(' '.join(eval_args_no_origin).replace(sys.executable, 'python'))"
   ]
  },
  {
   "cell_type": "code",
   "execution_count": 17,
   "metadata": {},
   "outputs": [
    {
     "name": "stdout",
     "output_type": "stream",
     "text": [
      "\n",
      "=== To evaluate manually in terminal ===\n",
      "Navigate to project root and run (recommended):\n",
      "python test_widerface.py -m weights/mobilenet0.25_Final.pth --network mobile0.25 --confidence_threshold 0.02 --top_k 5000 --nms_threshold 0.4 --keep_top_k 750 --save_folder ./widerface_evaluate/widerface_txt/ --dataset_folder ./data/widerface/val/images/ --vis_thres 0.5 --save_image\n"
     ]
    }
   ],
   "source": [
    "# Option 1: Run evaluation directly (recommended)\n",
    "# Uncomment to run:\n",
    "#result = subprocess.run(eval_args_no_origin, capture_output=True, text=True)\n",
    "#print(result.stdout)\n",
    "#if result.stderr:\n",
    "#    print(\"Errors:\", result.stderr)\n",
    "\n",
    "# Option 2: Test with origin_size (if the above doesn't work)\n",
    "# result = subprocess.run(eval_args, capture_output=True, text=True)\n",
    "# print(result.stdout)\n",
    "# if result.stderr:\n",
    "#     print(\"Errors:\", result.stderr)\n",
    "\n",
    "# Option 3: Show manual command for terminal execution\n",
    "print(\"\\n=== To evaluate manually in terminal ===\")\n",
    "print(\"Navigate to project root and run (recommended):\")\n",
    "print(' '.join(eval_args_no_origin).replace(sys.executable, 'python'))\n",
    "\n",
    "# The evaluation will generate prediction files in widerface_evaluate/widerface_txt/"
   ]
  },
  {
   "cell_type": "code",
   "execution_count": 18,
   "metadata": {},
   "outputs": [
    {
     "name": "stdout",
     "output_type": "stream",
     "text": [
      "=== Copy-paste ready command ===\n",
      "python test_widerface.py -m weights/mobilenet0.25_Final.pth --network mobile0.25 --confidence_threshold 0.02 --top_k 5000 --nms_threshold 0.4 --keep_top_k 750 --save_folder ./widerface_evaluate/widerface_txt/ --dataset_folder ./data/widerface/val/images/ --vis_thres 0.5 --save_image\n"
     ]
    }
   ],
   "source": [
    "# Ready-to-use evaluation command for copy-paste\n",
    "print(\"=== Copy-paste ready command ===\")\n",
    "cmd = ' '.join(eval_args_no_origin).replace(sys.executable, 'python')\n",
    "print(cmd)\n",
    "\n",
    "# Example expected output:\n",
    "# python test_widerface.py -m weights/mobilenet0.25_Final.pth --network mobile0.25 ...\n",
    "\n",
    "# To run evaluation with subprocess (uncomment):\n",
    "# result = subprocess.run(eval_args_no_origin, capture_output=True, text=True)\n",
    "# if result.returncode == 0:\n",
    "#     print(\"Success!\")\n",
    "#     print(result.stdout)\n",
    "# else:\n",
    "#     print(\"Error occurred:\")\n",
    "#     print(result.stderr)"
   ]
  },
  {
   "cell_type": "markdown",
   "metadata": {},
   "source": [
    "### Computing mAP Scores\n",
    "\n",
    "After running test_widerface.py, use the evaluation tools to compute mAP:"
   ]
  },
  {
   "cell_type": "code",
   "execution_count": 19,
   "metadata": {},
   "outputs": [
    {
     "name": "stdout",
     "output_type": "stream",
     "text": [
      "=== Steps to compute mAP ===\n",
      "1. Run test_widerface.py (generates prediction txt files)\n",
      "2. Navigate to widerface_evaluate/\n",
      "3. Run evaluation script:\n",
      "   cd widerface_evaluate\n",
      "   python evaluation.py\n",
      "\n",
      "This will output:\n",
      "- Easy Val AP: xx.x%\n",
      "- Medium Val AP: xx.x%\n",
      "- Hard Val AP: xx.x%\n"
     ]
    }
   ],
   "source": [
    "# After evaluation, compute mAP scores\n",
    "print(\"=== Steps to compute mAP ===\")\n",
    "print(\"1. Run test_widerface.py (generates prediction txt files)\")\n",
    "print(\"2. Navigate to widerface_evaluate/\")\n",
    "print(\"3. Run evaluation script:\")\n",
    "print(\"   cd widerface_evaluate\")\n",
    "print(\"   python evaluation.py\")\n",
    "print(\"\\nThis will output:\")\n",
    "print(\"- Easy Val AP: xx.x%\")\n",
    "print(\"- Medium Val AP: xx.x%\")\n",
    "print(\"- Hard Val AP: xx.x%\")"
   ]
  },
  {
   "cell_type": "code",
   "metadata": {},
   "outputs": [],
   "source": "# Build evaluation command with proper arguments - FIXED VERSION\nimport os\nfrom pathlib import Path\n\n# Verify paths exist first\npred_dir = Path('./widerface_evaluate/widerface_txt')\ngt_dir = Path('./widerface_evaluate/eval_tools/ground_truth')\n\nprint(\"=== Path Verification ===\")\nprint(f\"Predictions directory: {pred_dir.absolute()}\")\nprint(f\"Exists: {pred_dir.exists()}\")\nprint(f\"Ground truth directory: {gt_dir.absolute()}\")\nprint(f\"Exists: {gt_dir.exists()}\")\n\n# Create directories if they don't exist\npred_dir.mkdir(parents=True, exist_ok=True)\ngt_dir.mkdir(parents=True, exist_ok=True)\n\n# Build correct evaluation command with required arguments\neval_wider_args = [\n    sys.executable, 'widerface_evaluate/evaluation.py',\n    '-p', './widerface_evaluate/widerface_txt',    # Predictions path\n    '-g', './widerface_evaluate/eval_tools/ground_truth'  # Ground truth path\n]\n\nprint(\"\\n=== Corrected Evaluation Command ===\")\nprint(\"Evaluation command:\")\nprint(' '.join(eval_wider_args))\n\n# Check if prediction files exist before running evaluation\nif pred_dir.exists() and any(pred_dir.rglob('*.txt')):\n    print(\"\\n✓ Prediction files found, ready to evaluate\")\n    print(\"Uncomment the lines below to run evaluation:\")\n    print(\"# result = subprocess.run(eval_wider_args, capture_output=True, text=True)\")\n    print(\"# print(result.stdout)\")\n    print(\"# if result.stderr:\")\n    print(\"#     print('Errors:', result.stderr)\")\nelse:\n    print(\"\\n❌ No prediction files found!\")\n    print(\"Please run test_widerface.py first to generate predictions:\")\n    print(\"Example:\")\n    print(\"python test_widerface.py -m weights/mobilenet0.25_Final.pth --network mobile0.25 --save_folder ./widerface_evaluate/widerface_txt/\")"
  },
  {
   "cell_type": "markdown",
   "metadata": {},
   "source": [
    "## 7. Model Analysis\n",
    "\n",
    "Let's analyze the model architecture and count parameters."
   ]
  },
  {
   "cell_type": "code",
   "execution_count": 21,
   "metadata": {},
   "outputs": [
    {
     "name": "stdout",
     "output_type": "stream",
     "text": [
      "Total parameters: 592,371 (0.59M)\n",
      "Trainable parameters: 592,371 (0.59M)\n"
     ]
    }
   ],
   "source": [
    "# Load and analyze model\n",
    "import torch\n",
    "from models.retinaface import RetinaFace\n",
    "from data import cfg_mnet\n",
    "\n",
    "# Create model\n",
    "net = RetinaFace(cfg=cfg_mnet, phase='test')\n",
    "\n",
    "# Count parameters\n",
    "def count_parameters(model):\n",
    "    total_params = sum(p.numel() for p in model.parameters())\n",
    "    trainable_params = sum(p.numel() for p in model.parameters() if p.requires_grad)\n",
    "    return total_params, trainable_params\n",
    "\n",
    "total, trainable = count_parameters(net)\n",
    "print(f\"Total parameters: {total:,} ({total/1e6:.2f}M)\")\n",
    "print(f\"Trainable parameters: {trainable:,} ({trainable/1e6:.2f}M)\")\n",
    "\n",
    "# Expected: ~0.49M parameters"
   ]
  },
  {
   "cell_type": "code",
   "execution_count": 22,
   "metadata": {},
   "outputs": [
    {
     "name": "stdout",
     "output_type": "stream",
     "text": [
      "\n",
      "=== Model Architecture Analysis ===\n",
      "body: 213,072 parameters (0.213M)\n",
      "bacbkbone_0_cbam: 680 parameters (0.001M)\n",
      "relu_0: 0 parameters (0.000M)\n",
      "bacbkbone_1_cbam: 2,284 parameters (0.002M)\n",
      "relu_1: 0 parameters (0.000M)\n",
      "bacbkbone_2_cbam: 8,564 parameters (0.009M)\n",
      "relu_2: 0 parameters (0.000M)\n",
      "bifpn: 112,606 parameters (0.113M)\n",
      "bif_cbam_0: 680 parameters (0.001M)\n",
      "bif_relu_0: 0 parameters (0.000M)\n",
      "bif_cbam_1: 680 parameters (0.001M)\n",
      "bif_relu_1: 0 parameters (0.000M)\n",
      "bif_cbam_2: 680 parameters (0.001M)\n",
      "bif_relu_2: 0 parameters (0.000M)\n",
      "ssh1: 77,655 parameters (0.078M)\n",
      "ssh2: 77,655 parameters (0.078M)\n",
      "ssh3: 77,655 parameters (0.078M)\n",
      "ssh1_cs: 4,640 parameters (0.005M)\n",
      "ssh2_cs: 4,640 parameters (0.005M)\n",
      "ssh3_cs: 4,640 parameters (0.005M)\n",
      "ClassHead: 780 parameters (0.001M)\n",
      "BboxHead: 1,560 parameters (0.002M)\n",
      "LandmarkHead: 3,900 parameters (0.004M)\n"
     ]
    }
   ],
   "source": [
    "# Analyze model architecture by module\n",
    "print(\"\\n=== Model Architecture Analysis ===\")\n",
    "for name, module in net.named_children():\n",
    "    params = sum(p.numel() for p in module.parameters())\n",
    "    print(f\"{name}: {params:,} parameters ({params/1e6:.3f}M)\")"
   ]
  },
  {
   "cell_type": "markdown",
   "metadata": {},
   "source": [
    "## 8. Results Summary\n",
    "\n",
    "After running the evaluation, compare with expected baseline results:"
   ]
  },
  {
   "cell_type": "code",
   "execution_count": 23,
   "metadata": {},
   "outputs": [
    {
     "name": "stdout",
     "output_type": "stream",
     "text": [
      "=== Expected Baseline Results ===\n",
      "Model: FeatherFace (MobileNetV1 0.25x)\n",
      "Parameters: 0.49M\n",
      "WIDERFace Easy: 90.8%\n",
      "WIDERFace Medium: 88.2%\n",
      "WIDERFace Hard: 77.2%\n",
      "Average mAP: 85.4%\n",
      "\n",
      "=== Your Results ===\n",
      "Check results/ directory for evaluation outputs\n",
      "Use evaluation tools to compute mAP scores\n"
     ]
    }
   ],
   "source": [
    "# Expected baseline results\n",
    "baseline_results = {\n",
    "    'Model': 'FeatherFace (MobileNetV1 0.25x)',\n",
    "    'Parameters': '0.49M',\n",
    "    'WIDERFace Easy': '90.8%',\n",
    "    'WIDERFace Medium': '88.2%',\n",
    "    'WIDERFace Hard': '77.2%',\n",
    "    'Average mAP': '85.4%'\n",
    "}\n",
    "\n",
    "print(\"=== Expected Baseline Results ===\")\n",
    "for metric, value in baseline_results.items():\n",
    "    print(f\"{metric}: {value}\")\n",
    "\n",
    "print(\"\\n=== Your Results ===\")\n",
    "print(\"Check results/ directory for evaluation outputs\")\n",
    "print(\"Use evaluation tools to compute mAP scores\")"
   ]
  },
  {
   "cell_type": "markdown",
   "metadata": {},
   "source": [
    "## 9. Next Steps - FeatherFace V2\n",
    "\n",
    "With baseline established, we can proceed to Phase 02 for FeatherFace V2 development:\n",
    "\n",
    "1. **Architecture Optimizations**:\n",
    "   - Replace standard convolutions with grouped/depthwise convolutions\n",
    "   - Implement CBAM++ attention modules\n",
    "   - Optimize FPN with lightweight operations\n",
    "\n",
    "2. **Target Specifications**:\n",
    "   - Parameters: 0.25M (50% reduction)\n",
    "   - Performance: 92%+ mAP (1.2% improvement)\n",
    "   - Maintain real-time inference speed\n",
    "\n",
    "3. **Implementation Plan**:\n",
    "   - Create new model variant in models/\n",
    "   - Implement optimized modules in layers/\n",
    "   - Train with enhanced augmentation\n",
    "   - Fine-tune hyperparameters"
   ]
  }
 ],
 "metadata": {
  "kernelspec": {
   "display_name": "Python 3",
   "language": "python",
   "name": "python3"
  },
  "language_info": {
   "codemirror_mode": {
    "name": "ipython",
    "version": 3
   },
   "file_extension": ".py",
   "mimetype": "text/x-python",
   "name": "python",
   "nbconvert_exporter": "python",
   "pygments_lexer": "ipython3",
   "version": "3.10.10"
  }
 },
 "nbformat": 4,
 "nbformat_minor": 4
}